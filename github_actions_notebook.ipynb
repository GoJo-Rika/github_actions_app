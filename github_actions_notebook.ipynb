{
 "cells": [
  {
   "cell_type": "code",
   "execution_count": 1,
   "metadata": {},
   "outputs": [],
   "source": [
    "def add(a, b):\n",
    "  return a + b\n",
    "\n",
    "def sub(a, b):\n",
    "  return a - b\n",
    "\n",
    "def mul(a, b):\n",
    "  return a * b\n",
    "\n",
    "def div(a, b):\n",
    "  return a / b"
   ]
  },
  {
   "cell_type": "code",
   "execution_count": 2,
   "metadata": {},
   "outputs": [
    {
     "data": {
      "text/plain": [
       "8"
      ]
     },
     "execution_count": 2,
     "metadata": {},
     "output_type": "execute_result"
    }
   ],
   "source": [
    "add(3, 5)"
   ]
  },
  {
   "cell_type": "code",
   "execution_count": 3,
   "metadata": {},
   "outputs": [
    {
     "data": {
      "text/plain": [
       "4"
      ]
     },
     "execution_count": 3,
     "metadata": {},
     "output_type": "execute_result"
    }
   ],
   "source": [
    "sub(5, 1)"
   ]
  },
  {
   "cell_type": "code",
   "execution_count": 4,
   "metadata": {},
   "outputs": [
    {
     "data": {
      "text/plain": [
       "32"
      ]
     },
     "execution_count": 4,
     "metadata": {},
     "output_type": "execute_result"
    }
   ],
   "source": [
    "mul(4, 8)"
   ]
  },
  {
   "cell_type": "code",
   "execution_count": 5,
   "metadata": {},
   "outputs": [
    {
     "data": {
      "text/plain": [
       "2.6666666666666665"
      ]
     },
     "execution_count": 5,
     "metadata": {},
     "output_type": "execute_result"
    }
   ],
   "source": [
    "div(8, 3)"
   ]
  },
  {
   "cell_type": "code",
   "execution_count": 7,
   "metadata": {},
   "outputs": [],
   "source": [
    "from src.math_operations import add, sub, mul, div\n",
    "\n",
    "def test_add():\n",
    "  assert add(3, 5) == 8\n",
    "  assert add(-1, 1) == 0\n",
    "\n",
    "def test_sub():\n",
    "  assert sub(2, 3) == -1\n",
    "  assert sub(5, 3) == 2\n",
    "  assert sub(1, 1) == 0\n",
    "  assert sub(1, -1) == 2\n",
    "  assert sub(-2, 2) == -4\n",
    "\n",
    "def test_mul():\n",
    "  assert mul(2, 3) == 6\n",
    "  assert mul(5, 3) == 15\n",
    "  assert mul(1, 1) == 1\n",
    "  assert mul(1, -1) == -1\n",
    "  assert mul(-2, 0) == 0\n",
    "\n",
    "def test_div():\n",
    "  assert div(2, 3) == 0.6666666666666666\n",
    "  assert div(5, 3) == 1.6666666666666667\n",
    "  assert div(1, 1) == 1\n",
    "  assert div(1, -1) == -1\n",
    "  assert div(-2, 2) == -1"
   ]
  },
  {
   "cell_type": "code",
   "execution_count": 8,
   "metadata": {},
   "outputs": [],
   "source": [
    "test_add()"
   ]
  },
  {
   "cell_type": "code",
   "execution_count": 9,
   "metadata": {},
   "outputs": [],
   "source": [
    "test_sub()"
   ]
  },
  {
   "cell_type": "code",
   "execution_count": 10,
   "metadata": {},
   "outputs": [],
   "source": [
    "test_mul()"
   ]
  },
  {
   "cell_type": "code",
   "execution_count": 11,
   "metadata": {},
   "outputs": [],
   "source": [
    "test_div()"
   ]
  }
 ],
 "metadata": {
  "kernelspec": {
   "display_name": "venv",
   "language": "python",
   "name": "python3"
  },
  "language_info": {
   "codemirror_mode": {
    "name": "ipython",
    "version": 3
   },
   "file_extension": ".py",
   "mimetype": "text/x-python",
   "name": "python",
   "nbconvert_exporter": "python",
   "pygments_lexer": "ipython3",
   "version": "3.10.0"
  }
 },
 "nbformat": 4,
 "nbformat_minor": 2
}
